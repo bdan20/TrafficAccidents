
{
    "cells": [
        {
            "cell_type": "markdown",
            "metadata": {},
            "source": "<h1><center>A Safer Seattle</center></h1>\n"
        },
        {
            "cell_type": "markdown",
            "metadata": {},
            "source": "<h2><center>Using Machine Learning to Identify Risks for Severe Accidents and Inform Decisions to Mitigate Those Risks</center></h2>"
        },
        {
            "cell_type": "markdown",
            "metadata": {},
            "source": "<h3>Background Discussion </h3>"
        },
        {
            "cell_type": "markdown",
            "metadata": {},
            "source": "The mayor of Seattle has voiced his concern about the number of severe traffic accidents in the city.  And now his concern is more acute as the Seattle Area Department of Economic Development recently proposed having a week-long festival in 2022 called ***SuperSonic***.  The aim of the festival is to attract investors, corporations, and international entreprenuers to Seattle in hopes that they will invest and even relocate to Seattle.  \n\nRealizing that a safer driving record will enable Seattle to better promote itself to achieve its goals for ***SuperSonic***, the mayor has assembled a task force to determine the variables most closely linked to severe accidents and to propose ways to mitigate the risks.  While the most pressing purpose is to take steps to reduce severe car accidents before 2022, the task force has been asked to also consider any proposals that would take longer to implement to achieve improved transportation safety over the long term.  \n\nUpon receiving the report, the mayor will present the findings to the appropriate city officials for evaluation and implementation."
        },
        {
            "cell_type": "markdown",
            "metadata": {},
            "source": "<h3>Data Description </h3>"
        },
        {
            "cell_type": "markdown",
            "metadata": {},
            "source": "The data set used by the task force for this project was provided by the Seattle Police Department and was recorded by Traffic Records.  The data set includes all types of collisions from 2004 to present.  \n\nThe data was obtained in CSV format, and it contains 37 features, along with a severity rating for each accident as follows:  \n\n\n| Code  | Description |\n|-----|---------|\n| 3   | fatality   |\n| 2b  | serious injury   | \n| 2   | injury    |\n| 1   | property damage    |\n| 0   | unknown |  \n\n\n\nThe data features include location of the accident, date, weather conditions, road conditions, whether or not the vehicle involved was speeding, etc.  \n\nWhile there may have been other accidents in the Seattle area were not recorded by Traffic Records, this report is official and we can reasonably assume that this is the most exhaustive, accurate source for the information we are seeking.  The cost/benefit ratio of obtaining relevant, supplemental data sources would be far too high to pursue.  \n\nSince our plan is to reduce the severity of traffic accidents and our accidents are labeled with accident severity classifications, we will employ a supervised classification learning model.  With that in mind, let us consider what actions we need to take with regard to understanding and preparing our data set for modeling.  \n\nWe will begin by observing the data set and determining which attributes we will use to train our model.  This will include removing features that are deemed irrelevant in predicting the severity of an accident.  We will also remove accident records with too much missing data or utilize appropriate statistical methods to fill in missing data where appropriate.  We will also analyze the cases where the accident severity is unknown and determine whether those accidents should be removed from the data set or if some other appropriate action can be taken.  \n\nGiven that the most severe traffic accident cases are generally a very small proportion of total traffic accidents, we will need to balance the labeled data so as not to bias the model.\n\nAt this point we will move on to modeling and evaluation, looping back as needed to perform further work on the data.\n"
        },
        {
            "cell_type": "code",
            "execution_count": null,
            "metadata": {},
            "outputs": [],
            "source": ""
        }
    ],
    "metadata": {
        "kernelspec": {
            "display_name": "Python 3.6",
            "language": "python",
            "name": "python3"
        },
        "language_info": {
            "codemirror_mode": {
                "name": "ipython",
                "version": 3
            },
            "file_extension": ".py",
            "mimetype": "text/x-python",
            "name": "python",
            "nbconvert_exporter": "python",
            "pygments_lexer": "ipython3",
            "version": "3.6.9"
        }
    },
    "nbformat": 4,
    "nbformat_minor": 1
}
